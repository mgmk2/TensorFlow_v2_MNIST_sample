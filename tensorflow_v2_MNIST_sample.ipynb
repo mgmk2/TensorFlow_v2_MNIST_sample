{
  "nbformat": 4,
  "nbformat_minor": 0,
  "metadata": {
    "colab": {
      "name": "tensorflow_v2_MNIST_sample.ipynb",
      "provenance": [],
      "collapsed_sections": [],
      "include_colab_link": true
    },
    "kernelspec": {
      "name": "python3",
      "display_name": "Python 3"
    },
    "accelerator": "GPU"
  },
  "cells": [
    {
      "cell_type": "markdown",
      "metadata": {
        "id": "view-in-github",
        "colab_type": "text"
      },
      "source": [
        "<a href=\"https://colab.research.google.com/github/mgmk2/TensorFlow_v2_MNIST_sample/blob/master/tensorflow_v2_MNIST_sample.ipynb\" target=\"_parent\"><img src=\"https://colab.research.google.com/assets/colab-badge.svg\" alt=\"Open In Colab\"/></a>"
      ]
    },
    {
      "cell_type": "markdown",
      "metadata": {
        "id": "VsjkUxAqaVoM",
        "colab_type": "text"
      },
      "source": [
        "# TF2.0の準備"
      ]
    },
    {
      "cell_type": "code",
      "metadata": {
        "id": "XiBKqg5WFq3j",
        "colab_type": "code",
        "colab": {}
      },
      "source": [
        "# 2019/10/6現在、デフォルトではver1.14.0が入っているので、ver2.0.0をインストール\n",
        "!pip install tensorflow-gpu==2.0.0"
      ],
      "execution_count": 0,
      "outputs": []
    },
    {
      "cell_type": "code",
      "metadata": {
        "id": "rTQl2_hnF7LV",
        "colab_type": "code",
        "colab": {
          "base_uri": "https://localhost:8080/",
          "height": 35
        },
        "outputId": "9fd9d242-b3a8-482f-b398-c00ad9ad2112"
      },
      "source": [
        "# verチェック\n",
        "import tensorflow as tf\n",
        "tf.__version__"
      ],
      "execution_count": 2,
      "outputs": [
        {
          "output_type": "execute_result",
          "data": {
            "text/plain": [
              "'2.0.0'"
            ]
          },
          "metadata": {
            "tags": []
          },
          "execution_count": 2
        }
      ]
    },
    {
      "cell_type": "markdown",
      "metadata": {
        "id": "B3I5HikSaff_",
        "colab_type": "text"
      },
      "source": [
        "# ネットワーク定義 (Functional API)"
      ]
    },
    {
      "cell_type": "code",
      "metadata": {
        "id": "epEscHqIKYlJ",
        "colab_type": "code",
        "colab": {}
      },
      "source": [
        "import tensorflow as tf\n",
        "\n",
        "#=========================================================================\n",
        "# ネットワーク定義\n",
        "#=========================================================================\n",
        "\n",
        "input_shape = (28, 28, 1) # 入力のshape. 最初の次元（バッチサイズ）は除く.\n",
        "\n",
        "# ネットワークの定義\n",
        "# 入力層\n",
        "x = tf.keras.layers.Input(input_shape)\n",
        "# 畳み込み層1\n",
        "h = tf.keras.layers.Conv2D(64, (3, 3), padding='SAME')(x)\n",
        "h = tf.keras.layers.ReLU()(h)\n",
        "# 畳み込み層2\n",
        "h = tf.keras.layers.Conv2D(64, (3, 3), padding='SAME')(h)\n",
        "h = tf.keras.layers.ReLU()(h)\n",
        "# 畳み込み層3\n",
        "h = tf.keras.layers.Conv2D(64, (3, 3), padding='SAME')(h)\n",
        "h = tf.keras.layers.ReLU()(h)\n",
        "# 線形層\n",
        "h = tf.keras.layers.Flatten()(h)\n",
        "y = tf.keras.layers.Dense(10)(h)\n",
        "\n",
        "# モデルの作成\n",
        "model = tf.keras.Model(x, y)\n"
      ],
      "execution_count": 0,
      "outputs": []
    },
    {
      "cell_type": "markdown",
      "metadata": {
        "id": "i82RssxPar4M",
        "colab_type": "text"
      },
      "source": [
        "# ネットワーク定義 (Custom Model)"
      ]
    },
    {
      "cell_type": "code",
      "metadata": {
        "id": "231CDAm5NAq4",
        "colab_type": "code",
        "colab": {}
      },
      "source": [
        "import tensorflow as tf\n",
        "\n",
        "#=========================================================================\n",
        "# ネットワーク定義\n",
        "#=========================================================================\n",
        "\n",
        "input_shape = (28, 28, 1) # 入力のshape. 最初の次元（バッチサイズ）は除く.\n",
        "\n",
        "class CustomModel(tf.keras.Model):\n",
        "    def __init__(self, **kwargs):\n",
        "        super(CustomModel, self).__init__(**kwargs)\n",
        "\n",
        "        # 畳み込み層1\n",
        "        self.conv1 = tf.keras.layers.Conv2D(64, (3, 3), padding='SAME')\n",
        "        self.act1 = tf.keras.layers.ReLU()\n",
        "        # 畳み込み層2\n",
        "        self.conv2 = tf.keras.layers.Conv2D(64, (3, 3), padding='SAME')\n",
        "        self.act2 = tf.keras.layers.ReLU()\n",
        "        # 畳み込み層3\n",
        "        self.conv3 = tf.keras.layers.Conv2D(64, (3, 3), padding='SAME')\n",
        "        self.act3 = tf.keras.layers.ReLU()\n",
        "        # 線形層\n",
        "        self.flatten = tf.keras.layers.Flatten()\n",
        "        self.dense = tf.keras.layers.Dense(10)\n",
        "\n",
        "    def call(self, inputs):\n",
        "        h = self.conv1(inputs)\n",
        "        h = self.act1(h)\n",
        "        h = self.conv2(h)\n",
        "        h = self.act2(h)\n",
        "        h = self.conv3(h)\n",
        "        h = self.act3(h)\n",
        "        h = self.flatten(h)\n",
        "        y = self.dense(h)\n",
        "        return y\n",
        "\n",
        "model = CustomModel()\n"
      ],
      "execution_count": 0,
      "outputs": []
    },
    {
      "cell_type": "markdown",
      "metadata": {
        "id": "QCYMW9mCbKA1",
        "colab_type": "text"
      },
      "source": [
        "# 学習ステップとコスト関数の設定"
      ]
    },
    {
      "cell_type": "code",
      "metadata": {
        "id": "9n_7l7RibDGo",
        "colab_type": "code",
        "colab": {}
      },
      "source": [
        "#=========================================================================\n",
        "# 学習ステップの定義\n",
        "#=========================================================================\n",
        "\n",
        "optimizer = tf.optimizers.Adam(1.0e-4)\n",
        "train_loss = tf.keras.metrics.Mean() # コスト記録用\n",
        "train_acc = tf.keras.metrics.SparseCategoricalAccuracy() # 精度計算・記録用\n",
        "\n",
        "@tf.function\n",
        "def train_step(inputs):\n",
        "    images, labels = inputs\n",
        "\n",
        "    # tf.GtadientTapeブロックで入力からロスまで計算\n",
        "    with tf.GradientTape() as tape:\n",
        "        logits = model(images)\n",
        "        loss = tf.nn.sparse_softmax_cross_entropy_with_logits(labels, logits)\n",
        "        \n",
        "    # gradientを計算\n",
        "    # gradientを計算する重みをsourcesとして指定することが必須\n",
        "    # keras.Modelを使っているとmodel.trainable_variablesで渡すことができて便利\n",
        "    grad = tape.gradient(loss, sources=model.trainable_variables)\n",
        "\n",
        "    # optimizerで重みを更新\n",
        "    optimizer.apply_gradients(zip(grad, model.trainable_variables))\n",
        "\n",
        "    # lossの値を記録\n",
        "    train_loss.update_state(loss)\n",
        "    # train_loss(loss) # このように単純に__call__しても良い\n",
        "\n",
        "    # 精度を記録\n",
        "    train_acc.update_state(labels, logits)\n",
        "    # train_acc(labels, logits) # このように単純に__call__しても良い"
      ],
      "execution_count": 0,
      "outputs": []
    },
    {
      "cell_type": "markdown",
      "metadata": {
        "id": "Okgoqyq9bSgT",
        "colab_type": "text"
      },
      "source": [
        "# 学習を実行 (Dataset API)"
      ]
    },
    {
      "cell_type": "code",
      "metadata": {
        "id": "9-_sWf6JKhrG",
        "colab_type": "code",
        "colab": {
          "base_uri": "https://localhost:8080/",
          "height": 212
        },
        "outputId": "9836bc60-1849-4164-87e5-b6b0e68c26aa"
      },
      "source": [
        "import time\n",
        "import numpy as np\n",
        "\n",
        "#=========================================================================\n",
        "# データセット\n",
        "#=========================================================================\n",
        "\n",
        "# データセットをロード\n",
        "# 今回はMNIST\n",
        "(X_train, Y_train), (X_test, Y_test) = tf.keras.datasets.mnist.load_data()\n",
        "X_train = X_train[..., np.newaxis].astype(np.float32)\n",
        "Y_train = Y_train.astype(np.int32)\n",
        "N = X_train.shape[0]\n",
        "\n",
        "# tf.data.Dataset APIを使う\n",
        "batch_size = 32\n",
        "dataset = tf.data.Dataset.from_tensor_slices((X_train, Y_train))\n",
        "dataset = dataset.shuffle(buffer_size=N)\n",
        "dataset = dataset.batch(batch_size, drop_remainder=True)\n",
        "\n",
        "#=========================================================================\n",
        "# Dataset APIで学習を実行\n",
        "#=========================================================================\n",
        "\n",
        "print('train with Dataset API.')\n",
        "\n",
        "epochs = 10\n",
        "for epoch in range(epochs):\n",
        "    time_start = time.time()\n",
        "\n",
        "    for images, labels in dataset: # 1step分のデータを取り出し\n",
        "        train_step((images, labels)) # 1step分の学習を実行\n",
        "\n",
        "    # 平均ロスと平均精度\n",
        "    # Metric.result()メソッドで取り出せる\n",
        "    epoch_loss = train_loss.result()\n",
        "    epoch_acc = 100 * train_acc.result()\n",
        "\n",
        "    # epochの結果を表示\n",
        "    time_epoch = time.time() - time_start\n",
        "    print('epoch: {:} loss: {:.4f} acc: {:.2f}% time: {:.2f}s'.format(\n",
        "        epoch + 1, epoch_loss, epoch_acc, time_epoch))\n",
        "\n",
        "    # epoch毎にリセットしないと累積していく\n",
        "    train_loss.reset_states()\n",
        "    train_acc.reset_states()\n",
        "\n",
        "# 学習済みの重みを保存\n",
        "model.save_weights('weights_{:}'.format(epochs))"
      ],
      "execution_count": 3,
      "outputs": [
        {
          "output_type": "stream",
          "text": [
            "train with Dataset API.\n",
            "epoch: 1 loss: 0.2117 acc: 95.02% time: 22.54s\n",
            "epoch: 2 loss: 0.0443 acc: 98.65% time: 20.80s\n",
            "epoch: 3 loss: 0.0265 acc: 99.16% time: 20.71s\n",
            "epoch: 4 loss: 0.0162 acc: 99.48% time: 20.66s\n",
            "epoch: 5 loss: 0.0121 acc: 99.61% time: 20.65s\n",
            "epoch: 6 loss: 0.0090 acc: 99.69% time: 20.67s\n",
            "epoch: 7 loss: 0.0069 acc: 99.77% time: 20.69s\n",
            "epoch: 8 loss: 0.0046 acc: 99.85% time: 20.68s\n",
            "epoch: 9 loss: 0.0043 acc: 99.85% time: 20.68s\n",
            "epoch: 10 loss: 0.0047 acc: 99.84% time: 20.67s\n"
          ],
          "name": "stdout"
        }
      ]
    },
    {
      "cell_type": "markdown",
      "metadata": {
        "id": "qBqLAF4WbZPM",
        "colab_type": "text"
      },
      "source": [
        "# 学習を実行 (numpy array)"
      ]
    },
    {
      "cell_type": "code",
      "metadata": {
        "id": "rQI0caVdKn3V",
        "colab_type": "code",
        "colab": {
          "base_uri": "https://localhost:8080/",
          "height": 212
        },
        "outputId": "673c8c6b-09ee-403b-d856-2c570976692b"
      },
      "source": [
        "import time\n",
        "import numpy as np\n",
        "\n",
        "#=========================================================================\n",
        "# データセット\n",
        "#=========================================================================\n",
        "\n",
        "# データセットをロード\n",
        "# 今回はMNIST\n",
        "(X_train, Y_train), (X_test, Y_test) = tf.keras.datasets.mnist.load_data()\n",
        "X_train = X_train[..., np.newaxis].astype(np.float32)\n",
        "Y_train = Y_train.astype(np.int32)\n",
        "N = X_train.shape[0]\n",
        "\n",
        "# tf.data.Dataset APIを使う\n",
        "batch_size = 32\n",
        "dataset = tf.data.Dataset.from_tensor_slices((X_train, Y_train))\n",
        "dataset = dataset.shuffle(buffer_size=N)\n",
        "dataset = dataset.batch(batch_size, drop_remainder=True)\n",
        "\n",
        "#=========================================================================\n",
        "# numpy配列を直接与えて学習を実行\n",
        "#=========================================================================\n",
        "\n",
        "print('train with numpy array.')\n",
        "\n",
        "epochs = 10\n",
        "for epoch in range(epochs):\n",
        "    time_start = time.time()\n",
        "\n",
        "    # ここから違う========================================================\n",
        "\n",
        "    indices = np.arange(N)\n",
        "    np.random.shuffle(indices)\n",
        "    for i in range(N // batch_size):\n",
        "        # 1step分のデータを取り出し\n",
        "        indices_batch = indices[i * batch_size:(i + 1) * batch_size]\n",
        "        images = X_train[indices_batch]\n",
        "        labels = Y_train[indices_batch]\n",
        "        \n",
        "        # 1step分の学習を実行\n",
        "        # numpy配列を直接入れてOK\n",
        "        train_step((images, labels))\n",
        "    \n",
        "    # ここまで違う========================================================\n",
        "    \n",
        "    # 平均ロスと平均精度\n",
        "    # Metric.result()メソッドで取り出せる\n",
        "    epoch_loss = train_loss.result()\n",
        "    epoch_acc = 100 * train_acc.result()\n",
        "\n",
        "    # epochの結果を表示\n",
        "    time_epoch = time.time() - time_start\n",
        "    print('epoch: {:} loss: {:.4f} acc: {:.2f}% time: {:.2f}s'.format(\n",
        "        epoch + 1, epoch_loss, epoch_acc, time_epoch))\n",
        "\n",
        "    # epoch毎にリセットしないと累積していく\n",
        "    train_loss.reset_states()\n",
        "    train_acc.reset_states()\n",
        "\n",
        "# 学習済みの重みを保存\n",
        "model.save_weights('weights_{:}'.format(epochs))"
      ],
      "execution_count": 3,
      "outputs": [
        {
          "output_type": "stream",
          "text": [
            "train with numpy array.\n",
            "epoch: 1 loss: 0.1827 acc: 95.35% time: 20.78s\n",
            "epoch: 2 loss: 0.0403 acc: 98.75% time: 19.05s\n",
            "epoch: 3 loss: 0.0229 acc: 99.26% time: 18.99s\n",
            "epoch: 4 loss: 0.0153 acc: 99.45% time: 19.01s\n",
            "epoch: 5 loss: 0.0106 acc: 99.62% time: 18.94s\n",
            "epoch: 6 loss: 0.0081 acc: 99.73% time: 18.92s\n",
            "epoch: 7 loss: 0.0067 acc: 99.76% time: 18.95s\n",
            "epoch: 8 loss: 0.0052 acc: 99.84% time: 18.93s\n",
            "epoch: 9 loss: 0.0052 acc: 99.82% time: 18.88s\n",
            "epoch: 10 loss: 0.0034 acc: 99.88% time: 18.95s\n"
          ],
          "name": "stdout"
        }
      ]
    }
  ]
}